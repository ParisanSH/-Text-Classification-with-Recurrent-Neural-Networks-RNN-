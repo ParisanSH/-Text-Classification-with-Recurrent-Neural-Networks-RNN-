{
 "cells": [
  {
   "cell_type": "code",
   "execution_count": 1,
   "metadata": {},
   "outputs": [],
   "source": [
    "import torch\n",
    "import torch.nn as nn\n",
    "import torch.nn.functional as F\n",
    "import torch.optim as optim\n",
    "from torch.utils.data import DataLoader, Dataset\n",
    "from torch.utils.data.dataset import random_split\n",
    "from torchtext.data.utils import get_tokenizer\n",
    "from torchtext.vocab import build_vocab_from_iterator\n",
    "from torchtext.data.functional import to_map_style_dataset\n",
    "from sklearn.model_selection import train_test_split\n",
    "\n",
    "import pandas as pd\n",
    "import time\n",
    "\n",
    "device = torch.device(\"cuda\" if torch.cuda.is_available() else \"cpu\")"
   ]
  },
  {
   "cell_type": "code",
   "execution_count": 2,
   "metadata": {},
   "outputs": [],
   "source": [
    "# Hyperparameters\n",
    "EPOCHS = 20 # epoch\n",
    "LR = 0.01  # learning rate\n",
    "BATCH_SIZE = 64 # batch size for training"
   ]
  },
  {
   "cell_type": "code",
   "execution_count": 3,
   "metadata": {},
   "outputs": [],
   "source": [
    "def tokenizer(stop_words):\n",
    "    t = get_tokenizer(\"spacy\", language='en_core_web_sm')\n",
    "    def f(text):\n",
    "        import re\n",
    "        text = re.sub(r'[^\\w\\s]', '', text)\n",
    "        text = text.lower().split()\n",
    "        text = ' '.join([w for w in text if w not in stop_words and len(w) >= 3])\n",
    "        return t(text)\n",
    "    return f\n",
    "\n",
    "def yield_tokens(data_iter, tokenizer):\n",
    "    for _, text in data_iter:\n",
    "        yield tokenizer(text)\n",
    "\n",
    "def collate_batch(batch):\n",
    "    label_list, text_list, offsets = [], [], [0]\n",
    "    for (_label, _text) in batch:\n",
    "         label_list.append(label_pipeline(_label))\n",
    "         processed_text = torch.tensor(text_pipeline(_text), dtype=torch.int64)\n",
    "         text_list.append(processed_text)\n",
    "         offsets.append(processed_text.size(0))\n",
    "    label_list = torch.tensor(label_list, dtype=torch.int64)\n",
    "    offsets = torch.tensor(offsets[:-1]).cumsum(dim=0)\n",
    "    text_list = torch.cat(text_list)\n",
    "    return label_list.to(device), text_list.to(device), offsets.to(device)\n",
    "\n",
    "def train(dataloader, criterion, optimizer, epoch):\n",
    "    model.train()\n",
    "    total_acc, total_count = 0, 0\n",
    "    log_interval = 20\n",
    "    start_time = time.time()\n",
    "\n",
    "    for idx, (label, text, offsets) in enumerate(dataloader):\n",
    "        optimizer.zero_grad()\n",
    "        predicted_label = model(text, offsets)\n",
    "        loss = criterion(predicted_label, label)\n",
    "        loss.backward()\n",
    "        torch.nn.utils.clip_grad_norm_(model.parameters(), 0.1)\n",
    "        optimizer.step()\n",
    "        total_acc += (predicted_label.argmax(1) == label).sum().item()\n",
    "        total_count += label.size(0)\n",
    "        if idx % log_interval == 0 and idx > 0:\n",
    "            elapsed = time.time() - start_time\n",
    "            print('| epoch {:3d} | {:5d}/{:5d} batches '\n",
    "                  '| accuracy {:8.3f}'.format(epoch, idx, len(dataloader),\n",
    "                                              total_acc/total_count))\n",
    "            total_acc, total_count = 0, 0\n",
    "            start_time = time.time()\n",
    "\n",
    "def evaluate(dataloader, criterion):\n",
    "    model.eval()\n",
    "    total_acc, total_count = 0, 0\n",
    "\n",
    "    with torch.no_grad():\n",
    "        for idx, (label, text, offsets) in enumerate(dataloader):\n",
    "            predicted_label = model(text, offsets)\n",
    "            loss = criterion(predicted_label, label)\n",
    "            total_acc += (predicted_label.argmax(1) == label).sum().item()\n",
    "            total_count += label.size(0)\n",
    "    return total_acc/total_count\n"
   ]
  },
  {
   "cell_type": "code",
   "execution_count": 4,
   "metadata": {},
   "outputs": [],
   "source": [
    "class IMDBDataset(Dataset):\n",
    "    def __init__(self, df: pd.DataFrame, text_field, label_field):\n",
    "        self.df = df\n",
    "        self.text_field = text_field\n",
    "        self.label_field = label_field\n",
    "\n",
    "    def __len__(self):\n",
    "        return len(self.df)\n",
    "\n",
    "    def __getitem__(self, idx):\n",
    "        text = self.df.iloc[idx][self.text_field]\n",
    "        label = self.df.iloc[idx][self.label_field]\n",
    "        return label, text\n",
    "\n",
    "class TextClassificationModel(nn.Module):\n",
    "    def __init__(self, vocab_size, hidden_size, num_class, n_layer=1):\n",
    "        super(TextClassificationModel, self).__init__()\n",
    "        self.hidden_size = hidden_size\n",
    "        self.n_layer = n_layer\n",
    "        self.embedding = nn.EmbeddingBag(vocab_size, hidden_size)\n",
    "        self.rnn = nn.RNN(hidden_size, hidden_size, n_layer)\n",
    "        self.fc = nn.Linear(hidden_size, num_class)\n",
    "\n",
    "    def forward(self, text, offsets):\n",
    "        output = self.embedding(text, offsets)\n",
    "        output, _ = self.rnn(output)\n",
    "        output = self.fc(output)\n",
    "        return output"
   ]
  },
  {
   "cell_type": "code",
   "execution_count": 5,
   "metadata": {},
   "outputs": [],
   "source": [
    "imdb_df = pd.read_csv(\"IMDB_Dataset.csv\", encoding='latin-1')\n",
    "imdb_df['sentiment'] = imdb_df['sentiment'].map({'positive': 1, 'negative': 0})\n",
    "stop_words = open(\"stopwords.txt\", \"r\").readlines()\n",
    "all_categories = ['neg', 'pos']\n",
    "tokenizer_fn = get_tokenizer(tokenizer(stop_words))"
   ]
  },
  {
   "cell_type": "code",
   "execution_count": 6,
   "metadata": {},
   "outputs": [],
   "source": [
    "train_split, test_split = train_test_split(imdb_df, test_size=0.2, random_state=1)\n",
    "train_ds = IMDBDataset(train_split, 'review', 'sentiment')\n",
    "test_ds = IMDBDataset(test_split, 'review', 'sentiment')"
   ]
  },
  {
   "cell_type": "code",
   "execution_count": 7,
   "metadata": {},
   "outputs": [],
   "source": [
    "vocab = build_vocab_from_iterator(yield_tokens(train_ds, tokenizer_fn), specials=[\"<unk>\"])\n",
    "vocab.set_default_index(vocab[\"<unk>\"])"
   ]
  },
  {
   "cell_type": "code",
   "execution_count": 8,
   "metadata": {},
   "outputs": [],
   "source": [
    "text_pipeline = lambda x: vocab(tokenizer_fn(x))\n",
    "label_pipeline = lambda x: int(x)"
   ]
  },
  {
   "cell_type": "code",
   "execution_count": 9,
   "metadata": {},
   "outputs": [],
   "source": [
    "train_dl = DataLoader(train_ds, batch_size=BATCH_SIZE, shuffle=True, collate_fn=collate_batch)\n",
    "test_dl = DataLoader(test_ds, batch_size=BATCH_SIZE, shuffle=True, collate_fn=collate_batch)"
   ]
  },
  {
   "cell_type": "code",
   "execution_count": 10,
   "metadata": {},
   "outputs": [],
   "source": [
    "num_class = len(set([label for (label, text) in train_ds]))\n",
    "vocab_size = len(vocab)\n",
    "nhid = 256\n",
    "model = TextClassificationModel(vocab_size, nhid, num_class).to(device)"
   ]
  },
  {
   "cell_type": "code",
   "execution_count": 11,
   "metadata": {},
   "outputs": [
    {
     "name": "stdout",
     "output_type": "stream",
     "text": [
      "| epoch   1 |    20/   60 batches | accuracy    0.511\n",
      "| epoch   1 |    40/   60 batches | accuracy    0.528\n",
      "-----------------------------------------------------------\n",
      "| end of epoch   1 | time:  3.53s | valid accuracy    0.540 \n",
      "-----------------------------------------------------------\n",
      "| epoch   2 |    20/   60 batches | accuracy    0.510\n",
      "| epoch   2 |    40/   60 batches | accuracy    0.559\n",
      "-----------------------------------------------------------\n",
      "| end of epoch   2 | time:  3.72s | valid accuracy    0.590 \n",
      "-----------------------------------------------------------\n",
      "| epoch   3 |    20/   60 batches | accuracy    0.575\n",
      "| epoch   3 |    40/   60 batches | accuracy    0.730\n",
      "-----------------------------------------------------------\n",
      "| end of epoch   3 | time:  3.82s | valid accuracy    0.745 \n",
      "-----------------------------------------------------------\n",
      "| epoch   4 |    20/   60 batches | accuracy    0.909\n",
      "| epoch   4 |    40/   60 batches | accuracy    0.899\n",
      "-----------------------------------------------------------\n",
      "| end of epoch   4 | time:  3.96s | valid accuracy    0.825 \n",
      "-----------------------------------------------------------\n",
      "| epoch   5 |    20/   60 batches | accuracy    0.977\n",
      "| epoch   5 |    40/   60 batches | accuracy    0.959\n",
      "-----------------------------------------------------------\n",
      "| end of epoch   5 | time:  3.65s | valid accuracy    0.835 \n",
      "-----------------------------------------------------------\n",
      "| epoch   6 |    20/   60 batches | accuracy    0.985\n",
      "| epoch   6 |    40/   60 batches | accuracy    0.977\n",
      "-----------------------------------------------------------\n",
      "| end of epoch   6 | time:  3.50s | valid accuracy    0.840 \n",
      "-----------------------------------------------------------\n",
      "| epoch   7 |    20/   60 batches | accuracy    0.990\n",
      "| epoch   7 |    40/   60 batches | accuracy    0.991\n",
      "-----------------------------------------------------------\n",
      "| end of epoch   7 | time:  3.74s | valid accuracy    0.805 \n",
      "-----------------------------------------------------------\n",
      "| epoch   8 |    20/   60 batches | accuracy    0.987\n",
      "| epoch   8 |    40/   60 batches | accuracy    0.996\n",
      "-----------------------------------------------------------\n",
      "| end of epoch   8 | time:  3.54s | valid accuracy    0.805 \n",
      "-----------------------------------------------------------\n",
      "| epoch   9 |    20/   60 batches | accuracy    0.998\n",
      "| epoch   9 |    40/   60 batches | accuracy    0.998\n",
      "-----------------------------------------------------------\n",
      "| end of epoch   9 | time:  4.25s | valid accuracy    0.855 \n",
      "-----------------------------------------------------------\n",
      "| epoch  10 |    20/   60 batches | accuracy    0.999\n",
      "| epoch  10 |    40/   60 batches | accuracy    0.998\n",
      "-----------------------------------------------------------\n",
      "| end of epoch  10 | time:  3.89s | valid accuracy    0.845 \n",
      "-----------------------------------------------------------\n",
      "| epoch  11 |    20/   60 batches | accuracy    1.000\n",
      "| epoch  11 |    40/   60 batches | accuracy    0.999\n",
      "-----------------------------------------------------------\n",
      "| end of epoch  11 | time:  3.64s | valid accuracy    0.860 \n",
      "-----------------------------------------------------------\n",
      "| epoch  12 |    20/   60 batches | accuracy    1.000\n",
      "| epoch  12 |    40/   60 batches | accuracy    1.000\n",
      "-----------------------------------------------------------\n",
      "| end of epoch  12 | time:  3.72s | valid accuracy    0.845 \n",
      "-----------------------------------------------------------\n",
      "| epoch  13 |    20/   60 batches | accuracy    1.000\n",
      "| epoch  13 |    40/   60 batches | accuracy    1.000\n",
      "-----------------------------------------------------------\n",
      "| end of epoch  13 | time:  3.50s | valid accuracy    0.860 \n",
      "-----------------------------------------------------------\n",
      "| epoch  14 |    20/   60 batches | accuracy    1.000\n",
      "| epoch  14 |    40/   60 batches | accuracy    1.000\n",
      "-----------------------------------------------------------\n",
      "| end of epoch  14 | time:  3.64s | valid accuracy    0.855 \n",
      "-----------------------------------------------------------\n",
      "| epoch  15 |    20/   60 batches | accuracy    1.000\n",
      "| epoch  15 |    40/   60 batches | accuracy    1.000\n",
      "-----------------------------------------------------------\n",
      "| end of epoch  15 | time:  3.65s | valid accuracy    0.865 \n",
      "-----------------------------------------------------------\n",
      "| epoch  16 |    20/   60 batches | accuracy    1.000\n",
      "| epoch  16 |    40/   60 batches | accuracy    1.000\n",
      "-----------------------------------------------------------\n",
      "| end of epoch  16 | time:  3.44s | valid accuracy    0.845 \n",
      "-----------------------------------------------------------\n",
      "| epoch  17 |    20/   60 batches | accuracy    1.000\n",
      "| epoch  17 |    40/   60 batches | accuracy    1.000\n",
      "-----------------------------------------------------------\n",
      "| end of epoch  17 | time:  3.50s | valid accuracy    0.850 \n",
      "-----------------------------------------------------------\n",
      "| epoch  18 |    20/   60 batches | accuracy    1.000\n",
      "| epoch  18 |    40/   60 batches | accuracy    1.000\n",
      "-----------------------------------------------------------\n",
      "| end of epoch  18 | time:  3.44s | valid accuracy    0.850 \n",
      "-----------------------------------------------------------\n",
      "| epoch  19 |    20/   60 batches | accuracy    1.000\n",
      "| epoch  19 |    40/   60 batches | accuracy    1.000\n",
      "-----------------------------------------------------------\n",
      "| end of epoch  19 | time:  3.46s | valid accuracy    0.860 \n",
      "-----------------------------------------------------------\n",
      "| epoch  20 |    20/   60 batches | accuracy    1.000\n",
      "| epoch  20 |    40/   60 batches | accuracy    1.000\n",
      "-----------------------------------------------------------\n",
      "| end of epoch  20 | time:  3.51s | valid accuracy    0.850 \n",
      "-----------------------------------------------------------\n"
     ]
    }
   ],
   "source": [
    "criterion = torch.nn.CrossEntropyLoss()\n",
    "optimizer = torch.optim.Adam(model.parameters(), lr=LR)\n",
    "# scheduler = torch.optim.lr_scheduler.StepLR(optimizer, 1, gamma=0.1)\n",
    "total_accu = None\n",
    "\n",
    "train_dataset = to_map_style_dataset(train_ds)\n",
    "test_dataset = to_map_style_dataset(train_ds)\n",
    "num_train = int(len(train_dataset) * 0.95)\n",
    "split_train_, split_valid_ = \\\n",
    "    random_split(train_dataset, [num_train, len(train_dataset) - num_train],\n",
    "                 generator=torch.Generator().manual_seed(1))\n",
    "\n",
    "train_dataloader = DataLoader(split_train_, batch_size=BATCH_SIZE,\n",
    "                              shuffle=True, collate_fn=collate_batch)\n",
    "valid_dataloader = DataLoader(split_valid_, batch_size=BATCH_SIZE,\n",
    "                              shuffle=True, collate_fn=collate_batch)\n",
    "test_dataloader = DataLoader(test_dataset, batch_size=BATCH_SIZE,\n",
    "                             shuffle=True, collate_fn=collate_batch)\n",
    "\n",
    "for epoch in range(1, EPOCHS + 1):\n",
    "    epoch_start_time = time.time()\n",
    "    train(train_dataloader, criterion, optimizer, epoch)\n",
    "    accu_val = evaluate(valid_dataloader, criterion)\n",
    "    # if total_accu is not None and total_accu > accu_val:\n",
    "    #     scheduler.step()\n",
    "    # else:\n",
    "    #     total_accu = accu_val\n",
    "    print('-' * 59)\n",
    "    print('| end of epoch {:3d} | time: {:5.2f}s | '\n",
    "          'valid accuracy {:8.3f} '.format(epoch,\n",
    "                                           time.time() - epoch_start_time,\n",
    "                                           accu_val))\n",
    "    print('-' * 59)\n"
   ]
  },
  {
   "cell_type": "code",
   "execution_count": 12,
   "metadata": {},
   "outputs": [
    {
     "name": "stdout",
     "output_type": "stream",
     "text": [
      "Checking the results of train dataset.\n",
      "train accuracy 1.0\n"
     ]
    }
   ],
   "source": [
    "print('Checking the results of train dataset.')\n",
    "accu_train = evaluate(train_dataloader, criterion)\n",
    "print(f'train accuracy {accu_train}')"
   ]
  },
  {
   "cell_type": "code",
   "execution_count": 13,
   "metadata": {},
   "outputs": [
    {
     "name": "stdout",
     "output_type": "stream",
     "text": [
      "Checking the results of test dataset.\n",
      "test accuracy 0.993\n"
     ]
    }
   ],
   "source": [
    "print('Checking the results of test dataset.')\n",
    "accu_test = evaluate(test_dataloader, criterion)\n",
    "print(f'test accuracy {accu_test}')"
   ]
  },
  {
   "cell_type": "code",
   "execution_count": 42,
   "metadata": {},
   "outputs": [],
   "source": [
    "my_ds = IMDBDataset(pd.DataFrame(data={\n",
    "    'review': [\"the movie was horrible. I hated it.\"],\n",
    "    'sentiment': [0]\n",
    "}), 'review', 'sentiment')\n",
    "my_dl = DataLoader(my_ds, batch_size=BATCH_SIZE, shuffle=True, collate_fn=collate_batch)"
   ]
  },
  {
   "cell_type": "code",
   "execution_count": 44,
   "metadata": {},
   "outputs": [
    {
     "name": "stdout",
     "output_type": "stream",
     "text": [
      "tensor([[ 11.9643, -11.4592]], device='cuda:0', grad_fn=<AddmmBackward0>)\n",
      "tensor([0], device='cuda:0')\n"
     ]
    }
   ],
   "source": [
    "for y,x,o in my_dl:\n",
    "    pred = model(x,o)\n",
    "    print(pred)\n",
    "    print(pred.argmax(1))"
   ]
  }
 ],
 "metadata": {
  "interpreter": {
   "hash": "7062dfcb2c3a4bd4d1a6044ef57078dded736b05b2e52be5090a6855a8563dd1"
  },
  "kernelspec": {
   "display_name": "Python 3.9.7 ('AI')",
   "language": "python",
   "name": "python3"
  },
  "language_info": {
   "codemirror_mode": {
    "name": "ipython",
    "version": 3
   },
   "file_extension": ".py",
   "mimetype": "text/x-python",
   "name": "python",
   "nbconvert_exporter": "python",
   "pygments_lexer": "ipython3",
   "version": "3.9.7"
  },
  "orig_nbformat": 4
 },
 "nbformat": 4,
 "nbformat_minor": 2
}
